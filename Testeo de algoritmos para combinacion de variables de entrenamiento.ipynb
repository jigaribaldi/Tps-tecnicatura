{
  "nbformat": 4,
  "nbformat_minor": 0,
  "metadata": {
    "colab": {
      "provenance": []
    },
    "kernelspec": {
      "name": "python3",
      "display_name": "Python 3"
    },
    "language_info": {
      "name": "python"
    }
  },
  "cells": [
    {
      "cell_type": "markdown",
      "source": [
        "# **CARGUEMOS EL DATASET**"
      ],
      "metadata": {
        "id": "wMKMxRCMyNY5"
      }
    },
    {
      "cell_type": "code",
      "execution_count": null,
      "metadata": {
        "colab": {
          "base_uri": "https://localhost:8080/"
        },
        "id": "sVkM9NdZpxhE",
        "outputId": "b3d2b81c-2bb9-4210-80f6-5768f8501f36"
      },
      "outputs": [
        {
          "output_type": "stream",
          "name": "stdout",
          "text": [
            "      CRIM    ZN  INDUS  CHAS    NOX     RM   AGE     DIS  RAD    TAX  \\\n",
            "0  0.00632  18.0   2.31   0.0  0.538  6.575  65.2  4.0900  1.0  296.0   \n",
            "1  0.02731   0.0   7.07   0.0  0.469  6.421  78.9  4.9671  2.0  242.0   \n",
            "2  0.02729   0.0   7.07   0.0  0.469  7.185  61.1  4.9671  2.0  242.0   \n",
            "3  0.03237   0.0   2.18   0.0  0.458  6.998  45.8  6.0622  3.0  222.0   \n",
            "4  0.06905   0.0   2.18   0.0  0.458  7.147  54.2  6.0622  3.0  222.0   \n",
            "\n",
            "   PTRATIO       B  LSTAT  MEDV  \n",
            "0     15.3  396.90   4.98  24.0  \n",
            "1     17.8  396.90   9.14  21.6  \n",
            "2     17.8  392.83   4.03  34.7  \n",
            "3     18.7  394.63   2.94  33.4  \n",
            "4     18.7  396.90   5.33  36.2  \n"
          ]
        }
      ],
      "source": [
        "import pandas as pd\n",
        "import numpy as np\n",
        "from sklearn.model_selection import train_test_split\n",
        "from sklearn.linear_model import LinearRegression\n",
        "from sklearn.metrics import mean_absolute_error, mean_squared_error\n",
        "\n",
        "# Cargar el dataset de Boston\n",
        "data_url = \"http://lib.stat.cmu.edu/datasets/boston\"\n",
        "raw_df = pd.read_csv(data_url, sep=\"\\s+\", skiprows=22, header=None)\n",
        "data = np.hstack([raw_df.values[::2, :], raw_df.values[1::2, :2]])\n",
        "target = raw_df.values[1::2, 2]\n",
        "\n",
        "# Convertir a DataFrame para facilitar el manejo\n",
        "boston = pd.DataFrame(data, columns=[\n",
        "    'CRIM', 'ZN', 'INDUS', 'CHAS', 'NOX', 'RM', 'AGE', 'DIS', 'RAD', 'TAX', 'PTRATIO', 'B', 'LSTAT'\n",
        "])\n",
        "boston['MEDV'] = target  # MEDV es la variable que nos interesa (dependiente) (precio medio de la vivienda)\n",
        "\n",
        "print(boston.head()) # Vemos como queda el data set armado."
      ]
    },
    {
      "cell_type": "markdown",
      "source": [
        "# **1° CONJUNTO**"
      ],
      "metadata": {
        "id": "MpJOojFpyIhV"
      }
    },
    {
      "cell_type": "code",
      "source": [
        "C1 = boston[['CRIM', 'RM', 'LSTAT']] # Elegimos el primer grupo de variables independientes.\n",
        "y = boston['MEDV'] # Nuestra variable dependiente.\n",
        "\n",
        "# Separamos el data set para su analisis en 80% - 20%\n",
        "X_train, X_test, y_train, y_test = train_test_split(C1, y, test_size=0.2)\n",
        "\n",
        "# Crear el modelo de regresión lineal\n",
        "lr_multiple = LinearRegression()\n",
        "lr_multiple.fit(X_train, y_train)\n",
        "\n",
        "# Hacer predicciones\n",
        "y_pred1 = lr_multiple.predict(X_test)\n",
        "\n",
        "# Evaluar el modelo\n",
        "print(\"Datos del modelo de regresion:\")\n",
        "print(\"Conjunto 1: CRIM, RM, LSTAT\")\n",
        "print('Valor de las pendinetes o coeficientes \"a\":', lr_multiple.coef_)\n",
        "print('Valor de las pendinetes o coeficientes \"b\":', lr_multiple.intercept_)\n",
        "print('Precision del modelo:', lr_multiple.score(X_train, y_train))"
      ],
      "metadata": {
        "colab": {
          "base_uri": "https://localhost:8080/"
        },
        "id": "4W1rNlEmxhxm",
        "outputId": "db25ec02-a340-417e-d1e8-b4857e54fdfb"
      },
      "execution_count": null,
      "outputs": [
        {
          "output_type": "stream",
          "name": "stdout",
          "text": [
            "Datos del modelo de regresion:\n",
            "Conjunto 1: CRIM, RM, LSTAT\n",
            "Valor de las pendinetes o coeficientes \"a\": [-0.11213765  5.51851857 -0.54241807]\n",
            "Valor de las pendinetes o coeficientes \"b\": -4.8096102238965805\n",
            "Precision del modelo: 0.6538012089446643\n"
          ]
        }
      ]
    },
    {
      "cell_type": "markdown",
      "source": [
        "# **2° CONJUNTO**"
      ],
      "metadata": {
        "id": "SnWXQjMqzvUo"
      }
    },
    {
      "cell_type": "code",
      "source": [
        "C2 = boston[['INDUS', 'AGE', 'DIS']] # Elegimos el primer grupo de variables independientes.\n",
        "y = boston['MEDV'] # Nuestra variable dependiente.\n",
        "\n",
        "# Separamos el data set para su analisis en 80% - 20%\n",
        "X_train, X_test, y_train, y_test = train_test_split(C2, y, test_size=0.2)\n",
        "\n",
        "# Crear el modelo de regresión lineal\n",
        "lr_multiple = LinearRegression()\n",
        "lr_multiple.fit(X_train, y_train)\n",
        "\n",
        "# Hacer predicciones\n",
        "y_pred1 = lr_multiple.predict(X_test)\n",
        "\n",
        "# Evaluar el modelo\n",
        "print(\"Datos del modelo de regresion:\")\n",
        "print(\"Conjunto 1: CRIM, RM, LSTAT\")\n",
        "print('Valor de las pendinetes o coeficientes \"a\":', lr_multiple.coef_)\n",
        "print('Valor de las pendinetes o coeficientes \"b\":', lr_multiple.intercept_)\n",
        "print('Precision del modelo:', lr_multiple.score(X_train, y_train))"
      ],
      "metadata": {
        "colab": {
          "base_uri": "https://localhost:8080/"
        },
        "id": "YvCGPy--zx-V",
        "outputId": "af107dde-fd53-4d45-ed40-55dd6ac55b47"
      },
      "execution_count": null,
      "outputs": [
        {
          "output_type": "stream",
          "name": "stdout",
          "text": [
            "Datos del modelo de regresion:\n",
            "Conjunto 1: CRIM, RM, LSTAT\n",
            "Valor de las pendinetes o coeficientes \"a\": [-0.7857802  -0.09744266 -1.69727028]\n",
            "Valor de las pendinetes o coeficientes \"b\": 44.69901864197101\n",
            "Precision del modelo: 0.3009964372001488\n"
          ]
        }
      ]
    },
    {
      "cell_type": "code",
      "source": [
        "C3 = boston[['TAX', 'PTRATIO', 'B']] # Elegimos el primer grupo de variables independientes.\n",
        "y = boston['MEDV'] # Nuestra variable dependiente.\n",
        "\n",
        "# Separamos el data set para su analisis en 80% - 20%\n",
        "X_train, X_test, y_train, y_test = train_test_split(C3, y, test_size=0.2)\n",
        "\n",
        "# Crear el modelo de regresión lineal\n",
        "lr_multiple = LinearRegression()\n",
        "lr_multiple.fit(X_train, y_train)\n",
        "\n",
        "# Hacer predicciones\n",
        "y_pred1 = lr_multiple.predict(X_test)\n",
        "\n",
        "# Evaluar el modelo\n",
        "print(\"Datos del modelo de regresion:\")\n",
        "print(\"Conjunto 1: CRIM, RM, LSTAT\")\n",
        "print('Valor de las pendinetes o coeficientes \"a\":', lr_multiple.coef_)\n",
        "print('Valor de las pendinetes o coeficientes \"b\":', lr_multiple.intercept_)\n",
        "print('Precision del modelo:', lr_multiple.score(X_train, y_train))"
      ],
      "metadata": {
        "colab": {
          "base_uri": "https://localhost:8080/"
        },
        "id": "2ztYLpwL7aBl",
        "outputId": "0a2f2432-7c7a-4037-e5b7-5e588367a229"
      },
      "execution_count": null,
      "outputs": [
        {
          "output_type": "stream",
          "name": "stdout",
          "text": [
            "Datos del modelo de regresion:\n",
            "Conjunto 1: CRIM, RM, LSTAT\n",
            "Valor de las pendinetes o coeficientes \"a\": [-0.0118947  -1.56252418  0.01762496]\n",
            "Valor de las pendinetes o coeficientes \"b\": 49.93856232393021\n",
            "Precision del modelo: 0.3488495890890273\n"
          ]
        }
      ]
    },
    {
      "cell_type": "markdown",
      "source": [
        "# **AHORA CREAMOS UN ALGORITMOS QUE PRUEBE LAS DISTINTAS COMBINACIONES A VER COMO ENCONTRAMOS LA MEJOR.**"
      ],
      "metadata": {
        "id": "WdBhXmCP75qe"
      }
    },
    {
      "cell_type": "code",
      "source": [
        "# CARGAMOS LIBRERIAS\n",
        "import pandas as pd\n",
        "import numpy as np\n",
        "from sklearn.model_selection import train_test_split\n",
        "from sklearn.linear_model import LinearRegression\n",
        "from sklearn.metrics import mean_absolute_error, mean_squared_error\n",
        "from itertools import combinations"
      ],
      "metadata": {
        "id": "4gIGErYE84Pc"
      },
      "execution_count": null,
      "outputs": []
    },
    {
      "cell_type": "code",
      "source": [
        "# Cargar el dataset de Boston\n",
        "data_url = \"http://lib.stat.cmu.edu/datasets/boston\"\n",
        "raw_df = pd.read_csv(data_url, sep=\"\\s+\", skiprows=22, header=None)\n",
        "data = np.hstack([raw_df.values[::2, :], raw_df.values[1::2, :2]])\n",
        "target = raw_df.values[1::2, 2]\n",
        "\n",
        "# Convertir a DataFrame para facilitar el manejo\n",
        "BOSTON = pd.DataFrame(data, columns=[\n",
        "    'CRIM', 'ZN', 'INDUS', 'CHAS', 'NOX', 'RM', 'AGE', 'DIS', 'RAD', 'TAX', 'PTRATIO', 'B', 'LSTAT'\n",
        "])\n",
        "BOSTON['MEDV'] = target  # MEDV es la variable que nos interesa (dependiente) (precio medio de la vivienda)\n",
        "\n",
        "print(BOSTON.head()) # Vemos como queda el data set armado."
      ],
      "metadata": {
        "colab": {
          "base_uri": "https://localhost:8080/"
        },
        "id": "yfnzm-7R9MQt",
        "outputId": "970b75aa-107a-4d0b-acb0-52a9f9738170"
      },
      "execution_count": null,
      "outputs": [
        {
          "output_type": "stream",
          "name": "stdout",
          "text": [
            "      CRIM    ZN  INDUS  CHAS    NOX     RM   AGE     DIS  RAD    TAX  \\\n",
            "0  0.00632  18.0   2.31   0.0  0.538  6.575  65.2  4.0900  1.0  296.0   \n",
            "1  0.02731   0.0   7.07   0.0  0.469  6.421  78.9  4.9671  2.0  242.0   \n",
            "2  0.02729   0.0   7.07   0.0  0.469  7.185  61.1  4.9671  2.0  242.0   \n",
            "3  0.03237   0.0   2.18   0.0  0.458  6.998  45.8  6.0622  3.0  222.0   \n",
            "4  0.06905   0.0   2.18   0.0  0.458  7.147  54.2  6.0622  3.0  222.0   \n",
            "\n",
            "   PTRATIO       B  LSTAT  MEDV  \n",
            "0     15.3  396.90   4.98  24.0  \n",
            "1     17.8  396.90   9.14  21.6  \n",
            "2     17.8  392.83   4.03  34.7  \n",
            "3     18.7  394.63   2.94  33.4  \n",
            "4     18.7  396.90   5.33  36.2  \n"
          ]
        }
      ]
    },
    {
      "cell_type": "code",
      "source": [
        "# ASIGNAMOS X e Y\n",
        "X = pd.DataFrame(data, columns=[\n",
        "    'CRIM', 'ZN', 'INDUS', 'CHAS', 'NOX', 'RM', 'AGE', 'DIS', 'RAD', 'TAX', 'PTRATIO', 'B', 'LSTAT'\n",
        "])\n",
        "y = target"
      ],
      "metadata": {
        "id": "mhz1qgdq_X-M"
      },
      "execution_count": null,
      "outputs": []
    },
    {
      "cell_type": "code",
      "source": [
        "COMBINACIONES = list(combinations(X.columns, 3)) # CREAMOS COMBINACIONES EN GRUPOS DE 3"
      ],
      "metadata": {
        "id": "aCKAzhMw9mHF"
      },
      "execution_count": null,
      "outputs": []
    },
    {
      "cell_type": "code",
      "source": [
        "# Variables para almacenar el mejor resultado\n",
        "mejor_combo = None\n",
        "mejor_pocA = 0.0\n",
        "mejor_pocB = 0.0\n",
        "mejor_pm = 0.0"
      ],
      "metadata": {
        "id": "dP-0kFqC_z-9"
      },
      "execution_count": null,
      "outputs": []
    },
    {
      "cell_type": "code",
      "source": [
        "# Iterar sobre todas las combinaciones\n",
        "for combo in COMBINACIONES:\n",
        "    X_current = X[list(combo)] # Selecciona las variables independientes actuales\n",
        "\n",
        "    # Dividir el dataset en conjuntos de entrenamiento y prueba\n",
        "    X_train, X_test, y_train, y_test = train_test_split(X_current, y, test_size=0.2)\n",
        "\n",
        "    # Crear y entrenar el modelo\n",
        "    lr_multiple = LinearRegression()\n",
        "    lr_multiple.fit(X_train, y_train)\n",
        "\n",
        "    # Hacer predicciones\n",
        "    y_pred = lr_multiple.predict(X_test)\n",
        "\n",
        "    # Evaluar el modelo\n",
        "    pocA = lr_multiple.coef_\n",
        "    pocB = lr_multiple.intercept_\n",
        "    pm = lr_multiple.score(X_train, y_train)\n",
        "\n",
        "    # Verificar si este conjunto es el mejor hasta ahora\n",
        "    if pm > mejor_pm:\n",
        "        mejor_pocA = pocA\n",
        "        mejor_pocB = pocB\n",
        "        mejor_pm = pm\n",
        "        mejor_combo = combo\n",
        "\n",
        "# Mostrar los mejores resultados\n",
        "print(f\"Mejor combinación de variables independientes: {mejor_combo}\")\n",
        "print('Valor de las pendinetes o coeficientes \"a\":', mejor_pocA)\n",
        "print('Valor de las pendinetes o coeficientes \"b\":', mejor_pocB)\n",
        "print('Precision del modelo:', mejor_pm)"
      ],
      "metadata": {
        "colab": {
          "base_uri": "https://localhost:8080/"
        },
        "id": "PtYJw2YoAIFq",
        "outputId": "f81e80bf-cc1f-4487-ffb5-2976afd786c0"
      },
      "execution_count": null,
      "outputs": [
        {
          "output_type": "stream",
          "name": "stdout",
          "text": [
            "Mejor combinación de variables independientes: ('CRIM', 'RM', 'LSTAT')\n",
            "Valor de las pendinetes o coeficientes \"a\": [-0.11813875  5.51077314 -0.51951512]\n",
            "Valor de las pendinetes o coeficientes \"b\": -5.293008459788457\n",
            "Precision del modelo: 0.6715920199020753\n"
          ]
        }
      ]
    }
  ]
}
